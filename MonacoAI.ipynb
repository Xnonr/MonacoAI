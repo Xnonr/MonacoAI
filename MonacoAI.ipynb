{
 "cells": [
  {
   "cell_type": "code",
   "execution_count": 1,
   "id": "9553a277",
   "metadata": {},
   "outputs": [],
   "source": [
    "# Installs The Dependencies\n",
    "\n",
    "#!pip install pydirectinput # For Windows\n",
    "#!pip install python-libxdo"
   ]
  },
  {
   "cell_type": "code",
   "execution_count": 2,
   "id": "ddb3c755",
   "metadata": {},
   "outputs": [],
   "source": [
    "# Imports The Dependencies\n",
    "\n",
    "import cv2\n",
    "import ctypes\n",
    "from matplotlib import pyplot\n",
    "import numpy\n",
    "import os\n",
    "\n",
    "# PyAutoGui only provides virtual key press and mouse click inputs\n",
    "import pyautogui\n",
    "\n",
    "# Many video games use Direct X, which essentially bypasses the OS and will not register virtual key press inputs,\n",
    "# instead requiring direct key press inputs, meaning PyAutoGui will not work inside the game window\n",
    "from pynput.keyboard import Key\n",
    "from pynput.keyboard import Controller\n",
    "\n",
    "# Provides direct key inputs on Windows only\n",
    "# import pydirectinput\n",
    "\n",
    "import subprocess\n",
    "import torch\n",
    "import time\n",
    "\n",
    "from xdo import Xdo"
   ]
  },
  {
   "cell_type": "code",
   "execution_count": 3,
   "id": "bc9a89f7",
   "metadata": {},
   "outputs": [
    {
     "name": "stdout",
     "output_type": "stream",
     "text": [
      "/home/maxbrette/Documents/github/MonacoAI\r\n"
     ]
    }
   ],
   "source": [
    "!pwd"
   ]
  },
  {
   "cell_type": "code",
   "execution_count": 4,
   "id": "794f1215",
   "metadata": {},
   "outputs": [
    {
     "name": "stdout",
     "output_type": "stream",
     "text": [
      "/home/maxbrette/Documents/github\n",
      "/home/maxbrette/Documents\n",
      "/home/maxbrette\n"
     ]
    }
   ],
   "source": [
    "%cd ..\n",
    "%cd ..\n",
    "%cd .."
   ]
  },
  {
   "cell_type": "code",
   "execution_count": 5,
   "id": "c12d37cf",
   "metadata": {},
   "outputs": [
    {
     "data": {
      "text/plain": [
       "Point(x=1192, y=284)"
      ]
     },
     "execution_count": 5,
     "metadata": {},
     "output_type": "execute_result"
    }
   ],
   "source": [
    "# Finds out where the mouse should be positioned upon the computer screen to be able to drag Monaco game window\n",
    "# Starting Drag Position: x = 957 x, y = 189\n",
    "# Ending Drag Position: x = 2988 x, y = 0 \n",
    "pyautogui.position()"
   ]
  },
  {
   "cell_type": "code",
   "execution_count": 6,
   "id": "0a86829a",
   "metadata": {},
   "outputs": [],
   "source": [
    "# Game in windowed mode of 1280 x 720 resolution and opens in the center of the screen\n",
    "# Computer screen 1 is of size 1920 x 1080\n",
    "# Computer screen 2 is of size 1980 x 1050\n",
    "# Adjust all positioning as needed depending upon individual setup\n",
    "\n",
    "# Starts the game directly in offline mode\n",
    "# Starts up the Monaco.exe game file\n",
    "#subprocess.Popen(['.steam/steam/steamapps/common/Monaco/Monaco.bin.x86'], \n",
    "#                 stdout = subprocess.DEVNULL, stderr = subprocess.DEVNULL)\n",
    "\n",
    "# Starts the game indirectly in online mode through Steam\n",
    "# Clicks on the Steam Desktop Shortcut\n",
    "# Steam Desktop Shortcut Position: x = 32, 7 = 603\n",
    "pyautogui.moveTo(x = 32, y = 603)\n",
    "pyautogui.click()\n",
    "\n",
    "# Clicks on the Monaco Play Button in the Steam Laucnher\n",
    "# Monaco Play Button Position: x = 2301, y = 426\n",
    "pyautogui.moveTo(x = 2301, y = 426)\n",
    "time.sleep(1)\n",
    "pyautogui.click()\n",
    "\n",
    "# Clicks on the now opened Monaco Game Window Tab\n",
    "# Monaco Running Button Position: x = 32, y = 805\n",
    "pyautogui.moveTo(x = 32, y = 805)\n",
    "time.sleep(1)\n",
    "pyautogui.click()"
   ]
  },
  {
   "cell_type": "code",
   "execution_count": 7,
   "id": "9359baa6",
   "metadata": {},
   "outputs": [],
   "source": [
    "# Moves the mouse to 960 x, 540 y of the computer screen\n",
    "# Should cause the mouse to land on the now opened Monaco Game Window\n",
    "pyautogui.moveTo(x = 957, y = 189)\n",
    "time.sleep(1)\n",
    "\n",
    "# Drags and drops the Monaco game window to the desired screen location\n",
    "pyautogui.mouseDown(button = 'left')\n",
    "pyautogui.mouseUp(button = 'left', x = 2988, y= 0)\n",
    "time.sleep(1)\n",
    "\n",
    "# Causes the mouse to click, selecting the Monaco Game Window\n",
    "# Monaco Game Window Center: x = 2944, y = 301\n",
    "pyautogui.moveTo(x = 2944, y = 301)\n",
    "pyautogui.click()"
   ]
  },
  {
   "cell_type": "code",
   "execution_count": 8,
   "id": "3889e465",
   "metadata": {
    "scrolled": true
   },
   "outputs": [
    {
     "name": "stdout",
     "output_type": "stream",
     "text": [
      "Hello94371851\n"
     ]
    },
    {
     "data": {
      "text/plain": [
       "0"
      ]
     },
     "execution_count": 8,
     "metadata": {},
     "output_type": "execute_result"
    }
   ],
   "source": [
    "# Finds the Monaco Game Window\n",
    "#subprocess.call(['xdotool', 'search', 'Monaco.bin.x86'])\n",
    "\n",
    "xdo = Xdo()\n",
    "monacoGameWindow = !xdotool search Monaco.bin.x86\n",
    "monacoGameWindow = monacoGameWindow[1]\n",
    "print('Hello' + monacoGameWindow)\n",
    "\n",
    "# Brings the Monaco Game Window to the forefront of the screen\n",
    "subprocess.call(['xdotool', 'windowactivate', str(monacoGameWindow)])"
   ]
  },
  {
   "cell_type": "code",
   "execution_count": 9,
   "id": "948ab288",
   "metadata": {},
   "outputs": [],
   "source": [
    "# Xdotool Keys:\n",
    "# Reference Link: https://gitlab.com/cunidev/gestures/-/wikis/xdotool-list-of-key-codes\n",
    "\n",
    "# Menu Controls:\n",
    "# Escape: 0xff1b\n",
    "# Spacebar: 0x0020\n",
    "# p: 0x0070\n",
    "# P: 0x0050\n",
    "\n",
    "# Movement Controls:\n",
    "# r: 0x0072\n",
    "# R: 0x0052\n",
    "# w: 0x0077\n",
    "# W: 0x0057\n",
    "# a: 0x0061\n",
    "# A: 0x0041\n",
    "# s: 0x0073\n",
    "# S: 0x0053\n",
    "# d: 0x0064\n",
    "# D: 0x0044"
   ]
  },
  {
   "cell_type": "code",
   "execution_count": 10,
   "id": "1c159f59",
   "metadata": {},
   "outputs": [
    {
     "name": "stdout",
     "output_type": "stream",
     "text": [
      "Sleeping\n",
      "Pressed Spacebar: Press Space\n",
      "Pressed Spacebar: Enter Level Select\n",
      "Sleeping\n",
      "Pressed Spacebar: Select Level 1\n",
      "Pressed Spacebar: Select Character\n",
      "Pressed Spacebar: Skip First Dialogue Line\n",
      "Pressed R: Skip Story\n",
      "Pressed Spacebar: Start Level\n"
     ]
    },
    {
     "data": {
      "text/plain": [
       "0"
      ]
     },
     "execution_count": 10,
     "metadata": {},
     "output_type": "execute_result"
    }
   ],
   "source": [
    "# EXTREMLY TRICKY DUE TO TIMING\n",
    "# MESSING AROUND WITH THESE VALUES IS HELLISHOUSLY TEDIOU\n",
    "\n",
    "keyboard = Controller()\n",
    "\n",
    "# Wait out the first loading screen via buffer\n",
    "print('Sleeping')\n",
    "time.sleep(10)\n",
    "\n",
    "# Navigates the in game menu to level selection\n",
    "# Presses the 'space' key\n",
    "# Delay measured in milliseconds: 1s = 1000ms\n",
    "#!xdotool key --window monacoGameWindow --delay keyPressLength 0x0020\n",
    "print('Pressed Spacebar: Press Space')\n",
    "subprocess.call(['xdotool', 'key', '--window', str(monacoGameWindow), '--delay', '1000', '0x0020'])\n",
    "print('Pressed Spacebar: Enter Level Select')\n",
    "subprocess.call(['xdotool', 'key', '--window', str(monacoGameWindow), '--delay', '1000', '0x0020'])\n",
    "\n",
    "# When online check for available game lobbies, give it time for timing purposes\n",
    "print('Sleeping')\n",
    "time.sleep(5)\n",
    "\n",
    "# Go Offline\n",
    "#print('Pressed P: Go Offline')\n",
    "#subprocess.call(['xdotool', 'key', '--window', str(monacoGameWindow), '--delay', '1000', '0x0070'])\n",
    "#print('Pressed Spacebar: Accept')\n",
    "#subprocess.call(['xdotool', 'key', '--window', str(monacoGameWindow), '--delay', '1000', '0x0020'])\n",
    "\n",
    "# Selects the first available level\n",
    "print('Pressed Spacebar: Select Level 1')\n",
    "subprocess.call(['xdotool', 'key', '--window', str(monacoGameWindow), '--delay', '1000', '0x0020'])\n",
    "\n",
    "# Selects the first available character (Tpypically the Locksmith)\n",
    "print('Pressed Spacebar: Select Character')\n",
    "subprocess.call(['xdotool', 'key', '--window', str(monacoGameWindow), '--delay', '1000', '0x0020'])\n",
    "\n",
    "# Skips the level's in game story\n",
    "# Skips to the end of the first line of dialogue:\n",
    "print('Pressed Spacebar: Skip First Dialogue Line')\n",
    "subprocess.call(['xdotool', 'key', '--window', str(monacoGameWindow), '--delay', '1000', '0x0020'])\n",
    "#!xdotool key --window monacoGameWindow --delay 2000 0x0052\n",
    "print('Pressed R: Skip Story')\n",
    "subprocess.call(['xdotool', 'key', '--window', str(monacoGameWindow), '--delay', '2000', '0x0072'])\n",
    "\n",
    "# Starts the level\n",
    "#!xdotool key --window monacoGameWindow --delay 1000 0x0020\n",
    "print('Pressed Spacebar: Start Level')\n",
    "subprocess.call(['xdotool', 'key', '--window', str(monacoGameWindow), '--delay', '1000', '0x0020'])\n"
   ]
  },
  {
   "cell_type": "code",
   "execution_count": 35,
   "id": "5a8883f1",
   "metadata": {},
   "outputs": [],
   "source": [
    "def basicLocksmithBotLevel1Map1():\n",
    "    # Map 1: Cell Block\n",
    "    # Exit Starting Cell Down\n",
    "    subprocess.call(['xdotool', 'keydown', '--window', str(monacoGameWindow), '--delay', '1690', '0x0073'])\n",
    "    subprocess.call(['xdotool', 'keyup', '--window', str(monacoGameWindow), '--delay', '100', '0x0073'])\n",
    "\n",
    "    # Leave Cell Block Left\n",
    "    subprocess.call(['xdotool', 'keydown', '--window', str(monacoGameWindow), '--delay', '2725', '0x0061'])\n",
    "    subprocess.call(['xdotool', 'keyup', '--window', str(monacoGameWindow), '--delay', '100', '0x0061'])\n",
    "\n",
    "    # Leave Guard Corridor Up\n",
    "    subprocess.call(['xdotool', 'keydown', '--window', str(monacoGameWindow), '--delay', '2850', '0x0077'])\n",
    "    subprocess.call(['xdotool', 'keyup', '--window', str(monacoGameWindow), '--delay', '100', '0x0077'])\n",
    "\n",
    "    # Enter Cell Block With Tunnel Right\n",
    "    subprocess.call(['xdotool', 'keydown', '--window', str(monacoGameWindow), '--delay', '3500', '0x0064'])\n",
    "    subprocess.call(['xdotool', 'keyup', '--window', str(monacoGameWindow), '--delay', '100', '0x0064'])\n",
    "\n",
    "    # Enter Cell With Escape Tunnel\n",
    "    subprocess.call(['xdotool', 'keydown', '--window', str(monacoGameWindow), '--delay', '2000', '0x0073'])\n",
    "    subprocess.call(['xdotool', 'keyup', '--window', str(monacoGameWindow), '--delay', '100', '0x0073'])\n",
    "\n",
    "    subprocess.call(['xdotool', 'keydown', '--window', str(monacoGameWindow), '--delay', '500', '0x0061'])\n",
    "    subprocess.call(['xdotool', 'keyup', '--window', str(monacoGameWindow), '--delay', '100', '0x0061'])\n",
    "\n",
    "    subprocess.call(['xdotool', 'keydown', '--window', str(monacoGameWindow), '--delay', '500', '0x0073'])\n",
    "    subprocess.call(['xdotool', 'keyup', '--window', str(monacoGameWindow), '--delay', '100', '0x0073'])\n",
    "\n",
    "    subprocess.call(['xdotool', 'keydown', '--window', str(monacoGameWindow), '--delay', '5000', '0x0061'])\n",
    "    subprocess.call(['xdotool', 'keyup', '--window', str(monacoGameWindow), '--delay', '100', '0x0061'])"
   ]
  },
  {
   "cell_type": "code",
   "execution_count": 24,
   "id": "3fcc267a",
   "metadata": {},
   "outputs": [],
   "source": [
    "def basicLocksmithBotLevel1Map2():\n",
    "    # Map 2: Tunnels\n",
    "    # Right\n",
    "    subprocess.call(['xdotool', 'keydown', '--window', str(monacoGameWindow), '--delay', '300', '0x0064'])\n",
    "    subprocess.call(['xdotool', 'keyup', '--window', str(monacoGameWindow), '--delay', '100', '0x0064'])\n",
    "\n",
    "    # Up\n",
    "    subprocess.call(['xdotool', 'keydown', '--window', str(monacoGameWindow), '--delay', '850', '0x0077'])\n",
    "    subprocess.call(['xdotool', 'keyup', '--window', str(monacoGameWindow), '--delay', '100', '0x0077'])\n",
    "\n",
    "    # Left\n",
    "    subprocess.call(['xdotool', 'keydown', '--window', str(monacoGameWindow), '--delay', '1750', '0x0061'])\n",
    "    subprocess.call(['xdotool', 'keyup', '--window', str(monacoGameWindow), '--delay', '100', '0x0061'])\n",
    "\n",
    "    # Down\n",
    "    subprocess.call(['xdotool', 'keydown', '--window', str(monacoGameWindow), '--delay', '700', '0x0073'])\n",
    "    subprocess.call(['xdotool', 'keyup', '--window', str(monacoGameWindow), '--delay', '100', '0x0073'])\n",
    "\n",
    "    # Left\n",
    "    subprocess.call(['xdotool', 'keydown', '--window', str(monacoGameWindow), '--delay', '450', '0x0061'])\n",
    "    subprocess.call(['xdotool', 'keyup', '--window', str(monacoGameWindow), '--delay', '100', '0x0061'])\n",
    "\n",
    "    # Shutoff Power\n",
    "    subprocess.call(['xdotool', 'keydown', '--window', str(monacoGameWindow), '--delay', '3250', '0x0073'])\n",
    "    subprocess.call(['xdotool', 'keyup', '--window', str(monacoGameWindow), '--delay', '100', '0x0073'])\n",
    "\n",
    "    # Up Ladder\n",
    "    subprocess.call(['xdotool', 'keydown', '--window', str(monacoGameWindow), '--delay', '6650', '0x0061'])\n",
    "    subprocess.call(['xdotool', 'keyup', '--window', str(monacoGameWindow), '--delay', '100', '0x0061'])\n",
    "\n",
    "    # Escape Detention Center Up Ladder\n",
    "    subprocess.call(['xdotool', 'keydown', '--window', str(monacoGameWindow), '--delay', '6000', '0x0077'])\n",
    "    subprocess.call(['xdotool', 'keyup', '--window', str(monacoGameWindow), '--delay', '100', '0x0077'])"
   ]
  },
  {
   "cell_type": "code",
   "execution_count": 25,
   "id": "1b8096be",
   "metadata": {},
   "outputs": [],
   "source": [
    "def basicLocksmithBotLevel1Map3():\n",
    "    # Map 3: Stree Level\n",
    "    # Left\n",
    "    subprocess.call(['xdotool', 'keydown', '--window', str(monacoGameWindow), '--delay', '1000', '0x0061'])\n",
    "    subprocess.call(['xdotool', 'keyup', '--window', str(monacoGameWindow), '--delay', '100', '0x0061'])\n",
    "\n",
    "    # Down\n",
    "    subprocess.call(['xdotool', 'keydown', '--window', str(monacoGameWindow), '--delay', '500', '0x0073'])\n",
    "    subprocess.call(['xdotool', 'keyup', '--window', str(monacoGameWindow), '--delay', '100', '0x0073'])\n",
    "\n",
    "    # Left\n",
    "    subprocess.call(['xdotool', 'keydown', '--window', str(monacoGameWindow), '--delay', '4700', '0x0061'])\n",
    "    subprocess.call(['xdotool', 'keyup', '--window', str(monacoGameWindow), '--delay', '100', '0x0061'])\n",
    "\n",
    "    # Down\n",
    "    subprocess.call(['xdotool', 'keydown', '--window', str(monacoGameWindow), '--delay', '2500', '0x0073'])\n",
    "    subprocess.call(['xdotool', 'keyup', '--window', str(monacoGameWindow), '--delay', '100', '0x0073'])\n",
    "\n",
    "    # Right\n",
    "    subprocess.call(['xdotool', 'keydown', '--window', str(monacoGameWindow), '--delay', '600', '0x0064'])\n",
    "    subprocess.call(['xdotool', 'keyup', '--window', str(monacoGameWindow), '--delay', '100', '0x0064'])\n",
    "\n",
    "    # Down\n",
    "    subprocess.call(['xdotool', 'keydown', '--window', str(monacoGameWindow), '--delay', '1000', '0x0073'])\n",
    "    subprocess.call(['xdotool', 'keyup', '--window', str(monacoGameWindow), '--delay', '100', '0x0073'])\n",
    "\n",
    "    # Right\n",
    "    subprocess.call(['xdotool', 'keydown', '--window', str(monacoGameWindow), '--delay', '900', '0x0064'])\n",
    "    subprocess.call(['xdotool', 'keyup', '--window', str(monacoGameWindow), '--delay', '100', '0x0064'])\n",
    "\n",
    "    # Up\n",
    "    subprocess.call(['xdotool', 'keydown', '--window', str(monacoGameWindow), '--delay', '750', '0x0077'])\n",
    "    subprocess.call(['xdotool', 'keyup', '--window', str(monacoGameWindow), '--delay', '100', '0x0077'])\n",
    "\n",
    "    # Right\n",
    "    subprocess.call(['xdotool', 'keydown', '--window', str(monacoGameWindow), '--delay', '3000', '0x0064'])\n",
    "    subprocess.call(['xdotool', 'keyup', '--window', str(monacoGameWindow), '--delay', '100', '0x0064'])\n",
    "\n",
    "    # Up\n",
    "    subprocess.call(['xdotool', 'keydown', '--window', str(monacoGameWindow), '--delay', '500', '0x0077'])\n",
    "    subprocess.call(['xdotool', 'keyup', '--window', str(monacoGameWindow), '--delay', '100', '0x0077'])\n",
    "\n",
    "    # Right\n",
    "    subprocess.call(['xdotool', 'keydown', '--window', str(monacoGameWindow), '--delay', '5000', '0x0064'])\n",
    "    subprocess.call(['xdotool', 'keyup', '--window', str(monacoGameWindow), '--delay', '100', '0x0064'])\n",
    "\n",
    "    # Up\n",
    "    subprocess.call(['xdotool', 'keydown', '--window', str(monacoGameWindow), '--delay', '500', '0x0077'])\n",
    "    subprocess.call(['xdotool', 'keyup', '--window', str(monacoGameWindow), '--delay', '100', '0x0077'])\n",
    "\n",
    "    # Right\n",
    "    subprocess.call(['xdotool', 'keydown', '--window', str(monacoGameWindow), '--delay', '3000', '0x0064'])\n",
    "    subprocess.call(['xdotool', 'keyup', '--window', str(monacoGameWindow), '--delay', '100', '0x0064'])\n",
    "\n",
    "    # Escape Prison By Car: Down\n",
    "    subprocess.call(['xdotool', 'keydown', '--window', str(monacoGameWindow), '--delay', '4000', '0x0073'])\n",
    "    subprocess.call(['xdotool', 'keyup', '--window', str(monacoGameWindow), '--delay', '100', '0x0073'])"
   ]
  },
  {
   "cell_type": "code",
   "execution_count": 36,
   "id": "e04f1ff0",
   "metadata": {},
   "outputs": [],
   "source": [
    "# Basic Locksmith Bot\n",
    "# Level 1: The Locksmith's Story\n",
    "def basicLocksmithBotLevel1():\n",
    "    \n",
    "    # Level Maps must have time buffers to prevent Bot movement timing issues\n",
    "    basicLocksmithBotLevel1Map1()\n",
    "    #time.sleep(2)\n",
    "    #basicLocksmithBotLevel1Map2()\n",
    "    #time.sleep(2)\n",
    "    #basicLocksmithBotLevel1Map3()"
   ]
  },
  {
   "cell_type": "code",
   "execution_count": 37,
   "id": "7322a9d6",
   "metadata": {},
   "outputs": [],
   "source": [
    "# Allows the level to properly load and buffer before engaging the bot\n",
    "time.sleep(3)\n",
    "basicLocksmithBotLevel1()"
   ]
  },
  {
   "cell_type": "raw",
   "id": "946cfff2",
   "metadata": {},
   "source": [
    "#%cd Documents\n",
    "#%cd github\n",
    "#%cd MonacoAI"
   ]
  }
 ],
 "metadata": {
  "kernelspec": {
   "display_name": "Python 3 (ipykernel)",
   "language": "python",
   "name": "python3"
  },
  "language_info": {
   "codemirror_mode": {
    "name": "ipython",
    "version": 3
   },
   "file_extension": ".py",
   "mimetype": "text/x-python",
   "name": "python",
   "nbconvert_exporter": "python",
   "pygments_lexer": "ipython3",
   "version": "3.8.10"
  }
 },
 "nbformat": 4,
 "nbformat_minor": 5
}
