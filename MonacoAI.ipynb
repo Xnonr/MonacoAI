{
 "cells": [
  {
   "cell_type": "code",
   "execution_count": 1,
   "id": "9553a277",
   "metadata": {},
   "outputs": [],
   "source": [
    "# Installs The Dependencies\n",
    "\n",
    "#!pip install pydirectinput # For Windows\n",
    "#!pip install python-libxdo"
   ]
  },
  {
   "cell_type": "code",
   "execution_count": 2,
   "id": "ddb3c755",
   "metadata": {},
   "outputs": [],
   "source": [
    "# Imports The Dependencies\n",
    "\n",
    "import cv2\n",
    "import ctypes\n",
    "from matplotlib import pyplot\n",
    "import numpy\n",
    "import os\n",
    "\n",
    "# PyAutoGui only provides virtual key press and mouse click inputs\n",
    "import pyautogui\n",
    "\n",
    "# Many video games use Direct X, which essentially bypasses the OS and will not register virtual key press inputs,\n",
    "# instead requiring direct key press inputs, meaning PyAutoGui will not work inside the game window\n",
    "from pynput.keyboard import Key\n",
    "from pynput.keyboard import Controller\n",
    "\n",
    "# Provides direct key inputs on Windows only\n",
    "# import pydirectinput\n",
    "\n",
    "import subprocess\n",
    "import torch\n",
    "import time\n",
    "\n",
    "from xdo import Xdo"
   ]
  },
  {
   "cell_type": "code",
   "execution_count": 3,
   "id": "bc9a89f7",
   "metadata": {},
   "outputs": [
    {
     "name": "stdout",
     "output_type": "stream",
     "text": [
      "/home/maxbrette/Documents/github/MonacoAI\r\n"
     ]
    }
   ],
   "source": [
    "!pwd"
   ]
  },
  {
   "cell_type": "code",
   "execution_count": 4,
   "id": "794f1215",
   "metadata": {},
   "outputs": [
    {
     "name": "stdout",
     "output_type": "stream",
     "text": [
      "/home/maxbrette/Documents/github\n",
      "/home/maxbrette/Documents\n",
      "/home/maxbrette\n"
     ]
    }
   ],
   "source": [
    "%cd ..\n",
    "%cd ..\n",
    "%cd .."
   ]
  },
  {
   "cell_type": "code",
   "execution_count": 5,
   "id": "c12d37cf",
   "metadata": {},
   "outputs": [
    {
     "data": {
      "text/plain": [
       "Point(x=1272, y=284)"
      ]
     },
     "execution_count": 5,
     "metadata": {},
     "output_type": "execute_result"
    }
   ],
   "source": [
    "# Finds out where the mouse should be positioned upon the computer screen to be able to drag Monaco game window\n",
    "# Starting Drag Position: x = 957 x, y = 189\n",
    "# Ending Drag Position: x = 2988 x, y = 0 \n",
    "pyautogui.position()"
   ]
  },
  {
   "cell_type": "code",
   "execution_count": 6,
   "id": "0a86829a",
   "metadata": {},
   "outputs": [],
   "source": [
    "# Game in windowed mode of 1280 x 720 resolution and opens in the center of the screen\n",
    "# Computer screen 1 is of size 1920 x 1080\n",
    "# Computer screen 2 is of size 1980 x 1050\n",
    "# Adjust all positioning as needed depending upon individual setup\n",
    "\n",
    "# Starts the game directly in offline mode\n",
    "# Starts up the Monaco.exe game file\n",
    "#subprocess.Popen(['.steam/steam/steamapps/common/Monaco/Monaco.bin.x86'], \n",
    "#                 stdout = subprocess.DEVNULL, stderr = subprocess.DEVNULL)\n",
    "\n",
    "# Starts the game indirectly in online mode through Steam\n",
    "# Clicks on the Steam Desktop Shortcut\n",
    "# Steam Desktop Shortcut Position: x = 32, 7 = 603\n",
    "pyautogui.moveTo(x = 32, y = 603)\n",
    "pyautogui.click()\n",
    "\n",
    "# Clicks on the Monaco Play Button in the Steam Laucnher\n",
    "# Monaco Play Button Position: x = 2301, y = 426\n",
    "pyautogui.moveTo(x = 2301, y = 426)\n",
    "time.sleep(1)\n",
    "pyautogui.click()\n",
    "\n",
    "# Clicks on the now opened Monaco Game Window Tab\n",
    "# Monaco Running Button Position: x = 32, y = 805\n",
    "pyautogui.moveTo(x = 32, y = 805)\n",
    "time.sleep(1)\n",
    "pyautogui.click()"
   ]
  },
  {
   "cell_type": "code",
   "execution_count": 7,
   "id": "9359baa6",
   "metadata": {},
   "outputs": [],
   "source": [
    "# Moves the mouse to 960 x, 540 y of the computer screen\n",
    "# Should cause the mouse to land on the now opened Monaco Game Window\n",
    "pyautogui.moveTo(x = 957, y = 189)\n",
    "time.sleep(1)\n",
    "\n",
    "# Drags and drops the Monaco game window to the desired screen location\n",
    "pyautogui.mouseDown(button = 'left')\n",
    "pyautogui.mouseUp(button = 'left', x = 2988, y= 0)\n",
    "time.sleep(1)\n",
    "\n",
    "# Causes the mouse to click, selecting the Monaco Game Window\n",
    "# Monaco Game Window Center: x = 2944, y = 301\n",
    "pyautogui.moveTo(x = 2944, y = 301)\n",
    "pyautogui.click()"
   ]
  },
  {
   "cell_type": "code",
   "execution_count": 8,
   "id": "3889e465",
   "metadata": {
    "scrolled": true
   },
   "outputs": [
    {
     "name": "stdout",
     "output_type": "stream",
     "text": [
      "Hello94371851\n"
     ]
    },
    {
     "data": {
      "text/plain": [
       "0"
      ]
     },
     "execution_count": 8,
     "metadata": {},
     "output_type": "execute_result"
    }
   ],
   "source": [
    "# Finds the Monaco Game Window\n",
    "#subprocess.call(['xdotool', 'search', 'Monaco.bin.x86'])\n",
    "\n",
    "xdo = Xdo()\n",
    "monacoGameWindow = !xdotool search Monaco.bin.x86\n",
    "monacoGameWindow = monacoGameWindow[1]\n",
    "print('Hello' + monacoGameWindow)\n",
    "\n",
    "# Brings the Monaco Game Window to the forefront of the screen\n",
    "subprocess.call(['xdotool', 'windowactivate', str(monacoGameWindow)])"
   ]
  },
  {
   "cell_type": "code",
   "execution_count": 9,
   "id": "948ab288",
   "metadata": {},
   "outputs": [],
   "source": [
    "# Xdotool Keys:\n",
    "# Reference Link: https://gitlab.com/cunidev/gestures/-/wikis/xdotool-list-of-key-codes\n",
    "\n",
    "# Menu Controls:\n",
    "# Escape: 0xff1b\n",
    "# Spacebar: 0x0020\n",
    "# p: 0x0070\n",
    "# P: 0x0050\n",
    "\n",
    "# Movement Controls:\n",
    "# r: 0x0072\n",
    "# R: 0x0052\n",
    "# w: 0x0077\n",
    "# W: 0x0057\n",
    "# a: 0x0061\n",
    "# A: 0x0041\n",
    "# s: 0x0073\n",
    "# S: 0x0053\n",
    "# d: 0x0064\n",
    "# D: 0x0044"
   ]
  },
  {
   "cell_type": "code",
   "execution_count": 10,
   "id": "1c159f59",
   "metadata": {},
   "outputs": [
    {
     "name": "stdout",
     "output_type": "stream",
     "text": [
      "Sleeping\n",
      "Pressed Spacebar: Press Space\n",
      "Pressed Spacebar: Enter Level Select\n",
      "Sleeping\n",
      "Pressed Spacebar: Select Level 1\n",
      "Pressed Spacebar: Select Character\n",
      "Pressed Spacebar: Skip First Dialogue Line\n",
      "Pressed R: Skip Story\n",
      "Pressed Spacebar: Start Level\n"
     ]
    },
    {
     "data": {
      "text/plain": [
       "0"
      ]
     },
     "execution_count": 10,
     "metadata": {},
     "output_type": "execute_result"
    }
   ],
   "source": [
    "# EXTREMLY TRICKY DUE TO TIMING\n",
    "# MESSING AROUND WITH THESE VALUES IS HELLISHOUSLY TEDIOUs\n",
    "\n",
    "keyboard = Controller()\n",
    "\n",
    "# Wait out the first loading screen via buffer\n",
    "print('Sleeping')\n",
    "time.sleep(10)\n",
    "\n",
    "# Navigates the in game menu to level selection\n",
    "# Presses the 'space' key\n",
    "# Delay measured in milliseconds: 1s = 1000ms\n",
    "#!xdotool key --window monacoGameWindow --delay keyPressLength 0x0020\n",
    "print('Pressed Spacebar: Press Space')\n",
    "subprocess.call(['xdotool', 'key', '--window', str(monacoGameWindow), '--delay', '1000', '0x0020'])\n",
    "print('Pressed Spacebar: Enter Level Select')\n",
    "subprocess.call(['xdotool', 'key', '--window', str(monacoGameWindow), '--delay', '1000', '0x0020'])\n",
    "\n",
    "# When online check for available game lobbies, give it time for timing purposes\n",
    "print('Sleeping')\n",
    "time.sleep(5)\n",
    "\n",
    "# Go Offline\n",
    "#print('Pressed P: Go Offline')\n",
    "#subprocess.call(['xdotool', 'key', '--window', str(monacoGameWindow), '--delay', '1000', '0x0070'])\n",
    "#print('Pressed Spacebar: Accept')\n",
    "#subprocess.call(['xdotool', 'key', '--window', str(monacoGameWindow), '--delay', '1000', '0x0020'])\n",
    "\n",
    "# Selects the first available level\n",
    "print('Pressed Spacebar: Select Level 1')\n",
    "subprocess.call(['xdotool', 'key', '--window', str(monacoGameWindow), '--delay', '1000', '0x0020'])\n",
    "\n",
    "# Selects the first available character (Tpypically the Locksmith)\n",
    "print('Pressed Spacebar: Select Character')\n",
    "subprocess.call(['xdotool', 'key', '--window', str(monacoGameWindow), '--delay', '1000', '0x0020'])\n",
    "\n",
    "# Skips the level's in game story\n",
    "# Skips to the end of the first line of dialogue:\n",
    "print('Pressed Spacebar: Skip First Dialogue Line')\n",
    "subprocess.call(['xdotool', 'key', '--window', str(monacoGameWindow), '--delay', '1000', '0x0020'])\n",
    "#!xdotool key --window monacoGameWindow --delay 2000 0x0052\n",
    "print('Pressed R: Skip Story')\n",
    "subprocess.call(['xdotool', 'key', '--window', str(monacoGameWindow), '--delay', '2000', '0x0072'])\n",
    "\n",
    "# Starts the level\n",
    "#!xdotool key --window monacoGameWindow --delay 1000 0x0020\n",
    "print('Pressed Spacebar: Start Level')\n",
    "subprocess.call(['xdotool', 'key', '--window', str(monacoGameWindow), '--delay', '1000', '0x0020'])\n"
   ]
  },
  {
   "cell_type": "code",
   "execution_count": 11,
   "id": "c5cc59ad",
   "metadata": {},
   "outputs": [],
   "source": [
    "# TIMING MAY BE AFFECTED BY CPU SPEED, FACTOR FOR MULTIPLICATION IN ORDER TO ADJUST PATHING\n",
    "timingFactor = 1\n",
    "\n",
    "# Enables simple instructions via direct keyboard input simulation\n",
    "def instruction(keyPressHoldTime, key):\n",
    "    subprocess.call(['xdotool', 'keydown', '--window', str(monacoGameWindow), \n",
    "                     '--delay', str(keyPressHoldTime * timingFactor), key])\n",
    "    subprocess.call(['xdotool', 'keyup', '--window', str(monacoGameWindow), '--delay', '50', key])"
   ]
  },
  {
   "cell_type": "code",
   "execution_count": 12,
   "id": "076e2304",
   "metadata": {},
   "outputs": [],
   "source": [
    "# Level 1: Map 1: Cell Blocks\n",
    "def basicLocksmithBotLevel1Map1():\n",
    "    instruction(1635, '0x0073') # 1. Down\n",
    "    instruction(2650, '0x0061') # 2. Left\n",
    "    instruction(2850, '0x0077') # 3. Up\n",
    "    instruction(3350, '0x0064') # 4. Right\n",
    "    instruction(2000, '0x0073') # 5. Down\n",
    "    instruction(500, '0x0061') # 6. Left\n",
    "    instruction(500, '0x0073') # 7. Down\n",
    "    instruction(5000, '0x0061') # 8. Left"
   ]
  },
  {
   "cell_type": "code",
   "execution_count": 13,
   "id": "3fcc267a",
   "metadata": {},
   "outputs": [],
   "source": [
    "# Level 1: Map 2: Tunnels\n",
    "def basicLocksmithBotLevel1Map2():\n",
    "    instruction(300, '0x0064') # 1. Right\n",
    "    instruction(850, '0x0077') # 2. Up\n",
    "    instruction(1750, '0x0061') # 3. Left\n",
    "    instruction(700, '0x0073') # 4. Down\n",
    "    instruction(450, '0x0061') # 5. Left\n",
    "    instruction(3250, '0x0073') # 6. Down\n",
    "    instruction(6300, '0x0061') # 7. Left\n",
    "    instruction(6000, '0x0077') # 8. Up"
   ]
  },
  {
   "cell_type": "code",
   "execution_count": 14,
   "id": "1b8096be",
   "metadata": {},
   "outputs": [],
   "source": [
    "# Level 1: Map 3: Street Level\n",
    "def basicLocksmithBotLevel1Map3():\n",
    "    # Encountering a guard can result in being hit, slighly modifying the Locksmith's trajectory\n",
    "    # and potentially throwing off the bot completly\n",
    "    \n",
    "    instruction(1000, '0x0061') # 1. Left\n",
    "    instruction(500, '0x0073') # 2. Down\n",
    "    instruction(4500, '0x0061') # 3. Left\n",
    "    instruction(2500, '0x0073') # 4. Down\n",
    "    instruction(600, '0x0061') # 5. Left\n",
    "    instruction(900, '0x0073') # 6. Down\n",
    "    instruction(2100, '0x0064') # 7. Right\n",
    "    instruction(600, '0x0077') # 8. Up\n",
    "    instruction(3000, '0x0064') # 9. Right\n",
    "    instruction(500, '0x0077') # 10. Up\n",
    "    instruction(5000, '0x0064') # 11. Right\n",
    "    instruction(500, '0x0077') # 12. Up\n",
    "    instruction(2800, '0x0064') # 13. Right\n",
    "    instruction(4000, '0x0073') # 14. Down"
   ]
  },
  {
   "cell_type": "code",
   "execution_count": 15,
   "id": "e04f1ff0",
   "metadata": {},
   "outputs": [],
   "source": [
    "# Basic Locksmith Bot\n",
    "# Level 1: The Locksmith's Story\n",
    "def basicLocksmithBotLevel1():\n",
    "    \n",
    "    # Level Maps must have time buffers to prevent Bot movement timing issues\n",
    "    time.sleep(1)\n",
    "    basicLocksmithBotLevel1Map1()\n",
    "    time.sleep(3)\n",
    "    basicLocksmithBotLevel1Map2()\n",
    "    time.sleep(3)\n",
    "    basicLocksmithBotLevel1Map3()\n",
    "    time.sleep(1)"
   ]
  },
  {
   "cell_type": "code",
   "execution_count": 16,
   "id": "7322a9d6",
   "metadata": {},
   "outputs": [],
   "source": [
    "# Allows the level to properly load and buffer before engaging the bot\n",
    "time.sleep(3)\n",
    "\n",
    "timingFactor = 1\n",
    "\n",
    "basicLocksmithBotLevel1() "
   ]
  },
  {
   "cell_type": "raw",
   "id": "946cfff2",
   "metadata": {},
   "source": [
    "#%cd Documents\n",
    "#%cd github\n",
    "#%cd MonacoAI"
   ]
  }
 ],
 "metadata": {
  "kernelspec": {
   "display_name": "Python 3 (ipykernel)",
   "language": "python",
   "name": "python3"
  },
  "language_info": {
   "codemirror_mode": {
    "name": "ipython",
    "version": 3
   },
   "file_extension": ".py",
   "mimetype": "text/x-python",
   "name": "python",
   "nbconvert_exporter": "python",
   "pygments_lexer": "ipython3",
   "version": "3.8.10"
  }
 },
 "nbformat": 4,
 "nbformat_minor": 5
}
